{
 "cells": [
  {
   "cell_type": "code",
   "execution_count": 71,
   "id": "e75fb6d7",
   "metadata": {},
   "outputs": [],
   "source": [
    "import statistics\n",
    "import math\n",
    "import scipy.stats\n",
    "from IPython.display import Latex"
   ]
  },
  {
   "cell_type": "markdown",
   "id": "fea113d8",
   "metadata": {},
   "source": [
    "# Input Choices"
   ]
  },
  {
   "cell_type": "code",
   "execution_count": 13,
   "id": "4b01602f",
   "metadata": {},
   "outputs": [],
   "source": [
    "dimming_disabled = [\n",
    "    {\"attrition\": 2327, \"items_checked_out\": 14, \"recommendations_checked_out\": 7},\n",
    "    {\"attrition\": 2205, \"items_checked_out\": 84, \"recommendations_checked_out\": 44},\n",
    "    {\"attrition\": 2355, \"items_checked_out\": 17, \"recommendations_checked_out\": 14},\n",
    "    {\"attrition\": 2343, \"items_checked_out\": 12, \"recommendations_checked_out\": 9},\n",
    "    {\"attrition\": 2228, \"items_checked_out\": 70, \"recommendations_checked_out\": 42},\n",
    "]\n",
    "\n",
    "baseline_dimming = [\n",
    "    {\"attrition\": 1173, \"items_checked_out\": 2393, \"recommendations_checked_out\": 884},\n",
    "    {\"attrition\": 1228, \"items_checked_out\": 2387, \"recommendations_checked_out\": 882},\n",
    "    {\"attrition\": 1233, \"items_checked_out\": 2301, \"recommendations_checked_out\": 871},\n",
    "    {\"attrition\": 1237, \"items_checked_out\": 2298, \"recommendations_checked_out\": 862},\n",
    "    {\"attrition\": 1290, \"items_checked_out\": 2188, \"recommendations_checked_out\": 938},\n",
    "]\n",
    "\n",
    "component_weightings = [\n",
    "    {\"attrition\": 1027, \"items_checked_out\": 2688, \"recommendations_checked_out\": 1412},\n",
    "    {\"attrition\": 992, \"items_checked_out\": 2645, \"recommendations_checked_out\": 1432},\n",
    "    {\"attrition\": 989, \"items_checked_out\": 2722, \"recommendations_checked_out\": 1437},\n",
    "    {\"attrition\": 1014, \"items_checked_out\": 2726, \"recommendations_checked_out\": 1469},\n",
    "    {\"attrition\": 982, \"items_checked_out\": 2711, \"recommendations_checked_out\": 1445},\n",
    "]\n",
    "\n",
    "profiling_without_component_weightings = [\n",
    "    {\"attrition\": 1170, \"items_checked_out\": 2181, \"recommendations_checked_out\": 1091},\n",
    "    {\"attrition\": 1238, \"items_checked_out\": 2042, \"recommendations_checked_out\": 1022},\n",
    "    {\"attrition\": 1195, \"items_checked_out\": 2187, \"recommendations_checked_out\": 1121},\n",
    "    {\"attrition\": 1281, \"items_checked_out\": 1986, \"recommendations_checked_out\": 993},\n",
    "    {\"attrition\": 1209, \"items_checked_out\": 2051, \"recommendations_checked_out\": 1053},\n",
    "]\n",
    "\n",
    "profiling_with_component_weightings = []"
   ]
  },
  {
   "cell_type": "markdown",
   "id": "4493b0b4",
   "metadata": {},
   "source": [
    "# Run the output"
   ]
  },
  {
   "cell_type": "markdown",
   "id": "ad27efcb",
   "metadata": {},
   "source": [
    "## LaTeX table"
   ]
  },
  {
   "cell_type": "code",
   "execution_count": 60,
   "id": "fc2ad661",
   "metadata": {},
   "outputs": [],
   "source": [
    "source = baseline_dimming"
   ]
  },
  {
   "cell_type": "code",
   "execution_count": 61,
   "id": "2b8614fd",
   "metadata": {},
   "outputs": [
    {
     "name": "stdout",
     "output_type": "stream",
     "text": [
      "\\begin{table}[ht]\n",
      "\\centering\n",
      "\\begin{tabular}{|r|l|l|l|}\n",
      "\\hline\n",
      "\\multicolumn{1}{|l|}{\\multirow{2}{*}{Run}} & \\multicolumn{2}{c|}{Items Checked Out} & \\multirow{2}{*}{Attrition} \\\\ \\cline{2-3}\n",
      "\\multicolumn{1}{|l|}{} & Total & of which Recommended &  \\\\ \\hline\n",
      "1 & 2393 & 884 & 1173 \\\\ \\hline\n",
      "2 & 2387 & 882 & 1228 \\\\ \\hline\n",
      "3 & 2301 & 871 & 1233 \\\\ \\hline\n",
      "4 & 2298 & 862 & 1237 \\\\ \\hline\n",
      "5 & 2188 & 938 & 1290 \\\\ \\hline\n",
      "Avg & 2313.4 & 887.4 & 1232.2 \\\\ \\hline\n",
      "$s$ & 83.5 & 29.6 & 41.5 \\\\ \\hline\n",
      "\\end{tabular}\n",
      "\\caption{Shopping metrics for five constant load scenario runs with TODO.}\n",
      "\\label{fig:constant_load_TODO_repeated}\n",
      "\\end{table}\n",
      "\n"
     ]
    }
   ],
   "source": [
    "def avg(runs, key):\n",
    "    return sum([run[key] for run in runs]) / len(runs)\n",
    "\n",
    "\n",
    "def stdev(runs, key):\n",
    "    return statistics.stdev([run[key] for run in runs])\n",
    "\n",
    "\n",
    "def latex_table(runs):\n",
    "    preamble = (\n",
    "        \"\\\\begin{table}[ht]\\n\"\n",
    "        \"\\\\centering\\n\"\n",
    "        \"\\\\begin{tabular}{|r|l|l|l|}\\n\"\n",
    "        \"\\\\hline\\n\"\n",
    "        \"\\\\multicolumn{1}{|l|}{\\multirow{2}{*}{Run}} & \\multicolumn{2}{c|}{Items Checked Out} & \\multirow{2}{*}{Attrition} \\\\\\ \\\\cline{2-3}\\n\"\n",
    "        \"\\\\multicolumn{1}{|l|}{} & Total & of which Recommended &  \\\\\\ \\\\hline\\n\"\n",
    "    )\n",
    "    run_rows = [\n",
    "        f\"{i+1} & {run['items_checked_out']} & {run['recommendations_checked_out']} & {run['attrition']} \\\\\\ \\\\hline\\n\"\n",
    "        for i, run in enumerate(runs)\n",
    "    ]\n",
    "    avg_row = f\"Avg & {round(avg(runs, 'items_checked_out'), 1)} & {round(avg(runs, 'recommendations_checked_out'), 1)} & {round(avg(runs, 'attrition'), 1)} \\\\\\ \\\\hline\\n\"\n",
    "    stdev_row = f\"$s$ & {round(stdev(runs, 'items_checked_out'), 1)} & {round(stdev(runs, 'recommendations_checked_out'), 1)} & {round(stdev(runs, 'attrition'), 1)} \\\\\\ \\\\hline\\n\"\n",
    "    postamble = (\n",
    "        \"\\\\end{tabular}\\n\"\n",
    "        \"\\\\caption{Shopping metrics for five constant load scenario runs with TODO.}\\n\"\n",
    "        \"\\\\label{fig:constant_load_TODO_repeated}\\n\"\n",
    "        \"\\\\end{table}\\n\"\n",
    "    )\n",
    "    return preamble + \"\".join(run_rows) + avg_row + stdev_row + postamble\n",
    "\n",
    "\n",
    "print(latex_table(source))"
   ]
  },
  {
   "cell_type": "markdown",
   "id": "80a4d745",
   "metadata": {},
   "source": [
    "## Hypothesis Testing"
   ]
  },
  {
   "cell_type": "code",
   "execution_count": 88,
   "id": "ec4858fd",
   "metadata": {},
   "outputs": [],
   "source": [
    "control = dimming_disabled\n",
    "candidate = baseline_dimming\n",
    "key = \"items_checked_out\"\n",
    "# key = \"recommendations_checked_out\"\n",
    "# key = \"attrition\""
   ]
  },
  {
   "cell_type": "code",
   "execution_count": 104,
   "id": "942ee5f0",
   "metadata": {},
   "outputs": [
    {
     "name": "stdout",
     "output_type": "stream",
     "text": [
      "Degrees of freedom: 5 (rounded down from 5.344261916588816)\n",
      "Test statistic: -56.24475847647175\n",
      "Critical values:\n",
      "\t90th: 1.4758840487820273\n",
      "\t95th: 2.015048372669157\n",
      "\t99th: 3.3649299989072747\n",
      "\n",
      "Significant if 56.24475847647175 is greater than the critical value\n"
     ]
    }
   ],
   "source": [
    "def welch_dof(x1, x2):\n",
    "    var_x1 = statistics.variance(x1)\n",
    "    var_x2 = statistics.variance(x2)\n",
    "    len_x1 = len(x1)\n",
    "    len_x2 = len(x2)\n",
    "    numerator = (var_x1 / len_x1 + var_x2 / len_x2) ** 2\n",
    "    denominator = (var_x1 ** 2) / ((len_x1 ** 2) * (len_x1 - 1)) + (var_x2 ** 2) / ((len_x2 ** 2) * (len_x2 - 1))\n",
    "    return numerator / denominator\n",
    "    \n",
    "def t(x1, x2):\n",
    "    mean_x1 = sum(x1) / len(x1)\n",
    "    mean_x2 = sum(x2) / len(x2)\n",
    "    var_x1 = statistics.variance(x1)\n",
    "    var_x2 = statistics.variance(x2)\n",
    "    N_x1 = len(x1)\n",
    "    N_x2 = len(x2)\n",
    "    \n",
    "    return (mean_x1 - mean_x2) / math.sqrt(var_x1 / N_x1 + var_x2 / N_x2)\n",
    "\n",
    "dof = welch_dof([run[key] for run in control], [run[key] for run in candidate])\n",
    "t_statistic = t([run[key] for run in control], [run[key] for run in candidate])\n",
    "\n",
    "print(f\"Degrees of freedom: {math.floor(dof)} (rounded down from {dof})\")\n",
    "print(f\"Test statistic: {t_statistic}\")\n",
    "print(\n",
    "    f\"Critical values:\"\n",
    "    f\"\\n\\t90th: {scipy.stats.t.ppf(q=0.90,df=math.floor(dof))}\"\n",
    "    f\"\\n\\t95th: {scipy.stats.t.ppf(q=0.95,df=math.floor(dof))}\"\n",
    "    f\"\\n\\t99th: {scipy.stats.t.ppf(q=0.99,df=math.floor(dof))}\\n\"\n",
    ")\n",
    "\n",
    "print(f\"Significant if {abs(t_statistic)} is greater than the critical value\")"
   ]
  }
 ],
 "metadata": {
  "kernelspec": {
   "display_name": "Python 3",
   "language": "python",
   "name": "python3"
  },
  "language_info": {
   "codemirror_mode": {
    "name": "ipython",
    "version": 3
   },
   "file_extension": ".py",
   "mimetype": "text/x-python",
   "name": "python",
   "nbconvert_exporter": "python",
   "pygments_lexer": "ipython3",
   "version": "3.8.5"
  }
 },
 "nbformat": 4,
 "nbformat_minor": 5
}
